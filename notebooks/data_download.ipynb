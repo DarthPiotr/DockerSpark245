{
 "cells": [
  {
   "cell_type": "markdown",
   "metadata": {},
   "source": [
    "# Data Download #\n",
    "This notebook downloads data for the other notebook examples in this folder using Python `wget`.  The data is downloaded to  `/opt/workspace/datain` which is on the *shared-workspace* Docker volume."
   ]
  },
  {
   "cell_type": "code",
   "execution_count": null,
   "metadata": {},
   "outputs": [],
   "source": [
    "import wget"
   ]
  },
  {
   "cell_type": "markdown",
   "metadata": {},
   "source": [
    "#### Flight Data ####\n",
    "Download Flight Data from GitHub site [Databricks - Spark The Definitive Guide](https://github.com/databricks/Spark-The-Definitive-Guide)\n"
   ]
  },
  {
   "cell_type": "code",
   "execution_count": null,
   "metadata": {},
   "outputs": [],
   "source": [
    "files = ['2010-summary.csv','2011-summary.csv', '2012-summary.csv', '2013-summary.csv','2014-summary.csv', '2015-summary.csv']\n",
    "target_path = '/opt/workspace/datain'\n",
    "\n",
    "for f in files:\n",
    "     print(\"download {}\".format(f))\n",
    "     wget.download('https://raw.githubusercontent.com/databricks/Spark-The-Definitive-Guide/master/data/flight-data/csv/{}'.format(f)\n",
    "                   , out=target_path)\n",
    "        "
   ]
  }
 ],
 "metadata": {
  "kernelspec": {
   "display_name": "Python 3",
   "language": "python",
   "name": "python3"
  },
  "language_info": {
   "codemirror_mode": {
    "name": "ipython",
    "version": 3
   },
   "file_extension": ".py",
   "mimetype": "text/x-python",
   "name": "python",
   "nbconvert_exporter": "python",
   "pygments_lexer": "ipython3",
   "version": "3.7.3"
  }
 },
 "nbformat": 4,
 "nbformat_minor": 4
}
